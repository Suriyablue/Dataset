{
  "cells": [
    {
      "cell_type": "markdown",
      "metadata": {
        "id": "view-in-github",
        "colab_type": "text"
      },
      "source": [
        "<a href=\"https://colab.research.google.com/github/Suriyablue/Dataset/blob/main/main.ipynb\" target=\"_parent\"><img src=\"https://colab.research.google.com/assets/colab-badge.svg\" alt=\"Open In Colab\"/></a>"
      ]
    },
    {
      "cell_type": "markdown",
      "source": [
        "Install Text-Text"
      ],
      "metadata": {
        "id": "hbN9m-cBBhss"
      }
    },
    {
      "cell_type": "code",
      "source": [
        "from google.colab import drive\n",
        "drive.mount('/content/drive')"
      ],
      "metadata": {
        "id": "p6hczml0ENwk",
        "colab": {
          "base_uri": "https://localhost:8080/"
        },
        "outputId": "773453cf-5aed-47d3-edb1-e5594ce585d9"
      },
      "execution_count": 2,
      "outputs": [
        {
          "output_type": "stream",
          "name": "stdout",
          "text": [
            "Mounted at /content/drive\n"
          ]
        }
      ]
    },
    {
      "cell_type": "markdown",
      "source": [
        "## 🔧 Installing Required Text-to-Speech Library\n",
        "We install the `TTS` library (by coqui.ai), which is used for text-to-speech conversion.\n"
      ],
      "metadata": {
        "id": "MjZKnR5zDOde"
      }
    },
    {
      "cell_type": "code",
      "execution_count": null,
      "metadata": {
        "id": "6QNvuQLzLfhC"
      },
      "outputs": [],
      "source": [
        "# Installing the Coqui TTS library for speech synthesis\n",
        "!pip install TTS"
      ]
    },
    {
      "cell_type": "markdown",
      "source": [
        "## 🔧 Installing Resemblyzer for Voice Embeddings\n",
        "We install `resemblyzer`, a library used for extracting speaker embeddings from audio. This is useful for speaker verification or voice cloning.\n"
      ],
      "metadata": {
        "id": "nnm3k0MoDhRv"
      }
    },
    {
      "cell_type": "code",
      "execution_count": null,
      "metadata": {
        "id": "nf9w_18LPrek"
      },
      "outputs": [],
      "source": [
        "# Installing Resemblyzer library to extract speaker embeddings\n",
        "!pip install resemblyzer\n"
      ]
    },
    {
      "cell_type": "markdown",
      "source": [
        "## 🔧 Installing Additional Audio Processing Libraries\n",
        "We install key libraries for audio preprocessing and transcription, including `faster-whisper`, `pydub`, `librosa`, and `soundfile`.\n",
        "\n"
      ],
      "metadata": {
        "id": "6o_vSwBlD5ed"
      }
    },
    {
      "cell_type": "code",
      "execution_count": null,
      "metadata": {
        "id": "4YM75SwxP46X"
      },
      "outputs": [],
      "source": [
        "# Installing whisper-based ASR (Automatic Speech Recognition) and audio processing tools\n",
        "!pip install faster-whisper pydub librosa soundfile --quiet  # --quiet reduces console output"
      ]
    },
    {
      "cell_type": "markdown",
      "source": [
        "## 🎵 Audio Preprocessing: Convert to Mono and Resample\n",
        "We load the input audio file, convert it to mono, resample it to 22050 Hz, and save the preprocessed output.\n",
        "\n"
      ],
      "metadata": {
        "id": "x8Bl2nn-EURz"
      }
    },
    {
      "cell_type": "code",
      "execution_count": 2,
      "metadata": {
        "colab": {
          "base_uri": "https://localhost:8080/"
        },
        "id": "atpxU6xgQh1Y",
        "outputId": "cd2dfa29-cbfd-4d3b-d59d-666a4cc38d9c"
      },
      "outputs": [
        {
          "output_type": "stream",
          "name": "stdout",
          "text": [
            "✔ Preprocessed audio saved to: /content/drive/MyDrive/AudioFiles/output.wav\n"
          ]
        }
      ],
      "source": [
        "import librosa\n",
        "import soundfile as sf\n",
        "\n",
        "# Define file paths\n",
        "input_path = \"/content/drive/MyDrive/AudioFiles/uml diagrams using chatgot_082553-enhanced-v2.wav\"\n",
        "output_path = \"/content/drive/MyDrive/AudioFiles/output.wav\"\n",
        "\n",
        "# Load the audio: convert to mono and resample to 22050 Hz\n",
        "wav, sr = librosa.load(input_path, sr=22050, mono=True)\n",
        "\n",
        "# Save the preprocessed audio to a new file\n",
        "sf.write(output_path, wav, 22050)\n",
        "\n",
        "print(f\"✔ Preprocessed audio saved to: {output_path}\")"
      ]
    },
    {
      "cell_type": "markdown",
      "source": [
        "## 🧠 Extracting Speaker Embedding using Resemblyzer\n",
        "We use `Resemblyzer` to extract a speaker embedding (also called a d-vector) from the preprocessed audio. This embedding represents the unique vocal features of the speaker.\n"
      ],
      "metadata": {
        "id": "d62RP6nqEpAR"
      }
    },
    {
      "cell_type": "code",
      "execution_count": 3,
      "metadata": {
        "colab": {
          "base_uri": "https://localhost:8080/"
        },
        "id": "zhzfnQekRUoG",
        "outputId": "524a242f-3891-4a28-ca7c-f07bcd596490"
      },
      "outputs": [
        {
          "output_type": "stream",
          "name": "stdout",
          "text": [
            "Loaded the voice encoder model on cuda in 0.21 seconds.\n",
            "✔ Speaker embedding extracted. Shape: (256,)\n"
          ]
        }
      ],
      "source": [
        "from resemblyzer import VoiceEncoder, preprocess_wav\n",
        "import numpy as np\n",
        "\n",
        "# Initialize the voice encoder\n",
        "encoder = VoiceEncoder()\n",
        "\n",
        "# Preprocess the audio file for embedding extraction\n",
        "wav_pre = preprocess_wav(output_path)\n",
        "\n",
        "# Extract speaker embedding (d-vector)\n",
        "embed = encoder.embed_utterance(wav_pre)\n",
        "\n",
        "print(\"✔ Speaker embedding extracted. Shape:\", embed.shape)\n",
        "\n",
        "# Save the embedding as a .npy file for future use\n",
        "np.save(\"/content/drive/MyDrive/AudioFiles/embeddings.npy\", embed)\n"
      ]
    },
    {
      "cell_type": "markdown",
      "source": [
        "## 🗣️ Voice Cloning with Pre-trained Multilingual TTS Model\n",
        "We use the Coqui TTS library to generate speech from text, mimicking the voice characteristics of a reference speaker using the extracted embedding.\n"
      ],
      "metadata": {
        "id": "M1DTJ8vwE256"
      }
    },
    {
      "cell_type": "code",
      "execution_count": null,
      "metadata": {
        "id": "aUoypE1YRd8u"
      },
      "outputs": [],
      "source": [
        "from TTS.api import TTS\n",
        "\n",
        "# Load a pre-trained multilingual TTS model capable of voice cloning\n",
        "tts = TTS(model_name=\"tts_models/multilingual/multi-dataset/your_tts\", progress_bar=False, gpu=False)\n",
        "\n",
        "# Define the text to synthesize\n",
        "text = \"Hello Every one welcome to MG squad naa thaa unga madan\"\n",
        "output_audio = \"cloned.wav\"\n",
        "\n",
        "# Generate cloned speech using the reference audio and speaker embedding\n",
        "tts.tts_to_file(\n",
        "    text=text,\n",
        "    speaker_wav=output_path,           # Reference audio (used for voice cloning)\n",
        "    file_path=output_audio,            # Output path for cloned audio\n",
        "    language='en',                     # Language code\n",
        "    speaker_embedding=embed            # Speaker embedding vector\n",
        ")\n",
        "\n",
        "print(f\"✔ Cloned voice saved to: {output_audio}\")\n"
      ]
    },
    {
      "cell_type": "markdown",
      "source": [
        "## ▶️ Play and Download the Cloned Audio\n",
        "We play the generated cloned audio within the notebook and also provide a download link to save it locally.\n"
      ],
      "metadata": {
        "id": "FEHGNas3GCOZ"
      }
    },
    {
      "cell_type": "code",
      "execution_count": 5,
      "metadata": {
        "colab": {
          "base_uri": "https://localhost:8080/",
          "height": 34
        },
        "id": "4IFI6sfmRw25",
        "outputId": "1048599c-bd0d-4679-cef4-7b4e9a4bc05e"
      },
      "outputs": [
        {
          "output_type": "execute_result",
          "data": {
            "text/plain": [
              "/content/cloned.wav"
            ],
            "text/html": [
              "<a href='cloned.wav' target='_blank'>cloned.wav</a><br>"
            ]
          },
          "metadata": {},
          "execution_count": 5
        }
      ],
      "source": [
        "from IPython.display import Audio, FileLink\n",
        "\n",
        "# Play the cloned audio\n",
        "Audio(\"cloned.wav\")\n",
        "\n",
        "# Provide a download link to manually download the file\n",
        "FileLink(\"cloned.wav\")\n"
      ]
    },
    {
      "cell_type": "markdown",
      "source": [
        "## 🧾 Transcribing Audio Using Faster-Whisper\n",
        "We use the `faster-whisper` ASR model to transcribe the input audio into text. The transcription is done segment-wise and then combined into a single string.\n",
        "\n"
      ],
      "metadata": {
        "id": "lOxGXRLbGj2t"
      }
    },
    {
      "cell_type": "code",
      "execution_count": null,
      "metadata": {
        "id": "3RdpJuljYYUE"
      },
      "outputs": [],
      "source": [
        "from faster_whisper import WhisperModel\n",
        "\n",
        "# Load Whisper model\n",
        "model = WhisperModel(\"small\", compute_type=\"auto\")  # use 'medium' or 'small' if needed\n",
        "\n",
        "# Transcribe with forced language as English\n",
        "segments, _ = model.transcribe(\n",
        "    \"/content/drive/MyDrive/AudioFiles/Vijay-Mallya-UGLY-TRUTH-Madan-Go.wav\",\n",
        "    language=\"en\"  #Force the model to interpret speech as English\n",
        ")\n",
        "\n",
        "# Combine all segments into one text\n",
        "transcribed_text = \" \".join([seg.text for seg in segments])\n",
        "print(\"📝 Transcribed Text:\\n\", transcribed_text)\n"
      ]
    },
    {
      "cell_type": "code",
      "source": [
        "import librosa\n",
        "import librosa.display\n",
        "import numpy as np\n",
        "import matplotlib.pyplot as plt\n",
        "from sklearn.metrics.pairwise import cosine_similarity\n",
        "\n",
        "# Load original and cloned audio\n",
        "orig_audio_path = \"/content/drive/MyDrive/AudioFiles/uml diagrams using chatgot_082553-enhanced-v2.wav\"\n",
        "cloned_audio_path = \"cloned.wav\"\n",
        "\n",
        "orig_audio, sr_orig = librosa.load(orig_audio_path, sr=22050)\n",
        "cloned_audio, sr_clone = librosa.load(cloned_audio_path, sr=22050)\n",
        "\n",
        "# Trim to same length (based on the shorter audio)\n",
        "min_len = min(len(orig_audio), len(cloned_audio))\n",
        "orig_audio = orig_audio[:min_len]\n",
        "cloned_audio = cloned_audio[:min_len]\n",
        "\n",
        "# Compute MFCCs\n",
        "mfcc_orig = librosa.feature.mfcc(y=orig_audio, sr=22050, n_mfcc=13)\n",
        "mfcc_clone = librosa.feature.mfcc(y=cloned_audio, sr=22050, n_mfcc=13)\n",
        "\n",
        "# Plot MFCCs side-by-side\n",
        "plt.figure(figsize=(12, 5))\n",
        "\n",
        "plt.subplot(1, 2, 1)\n",
        "librosa.display.specshow(mfcc_orig, sr=22050, x_axis='time')\n",
        "plt.colorbar()\n",
        "plt.title(\"🎤 Original Audio MFCC\")\n",
        "\n",
        "plt.subplot(1, 2, 2)\n",
        "librosa.display.specshow(mfcc_clone, sr=22050, x_axis='time')\n",
        "plt.colorbar()\n",
        "plt.title(\"🗣️ Cloned Audio MFCC\")\n",
        "\n",
        "plt.tight_layout()\n",
        "plt.show()\n",
        "\n",
        "# Cosine similarity between mean MFCCs\n",
        "sim_score = cosine_similarity(\n",
        "    [np.mean(mfcc_orig, axis=1)],\n",
        "    [np.mean(mfcc_clone, axis=1)]\n",
        ")[0][0]\n",
        "\n",
        "print(f\"✅ Similarity Score (0 to 1): {sim_score:.2f}\")\n"
      ],
      "metadata": {
        "colab": {
          "base_uri": "https://localhost:8080/",
          "height": 659
        },
        "id": "S6eAv4_v7De4",
        "outputId": "01119149-1494-4cad-aa40-137066205f98"
      },
      "execution_count": 3,
      "outputs": [
        {
          "output_type": "stream",
          "name": "stderr",
          "text": [
            "/tmp/ipython-input-2555028051.py:36: UserWarning: Glyph 127908 (\\N{MICROPHONE}) missing from font(s) DejaVu Sans.\n",
            "  plt.tight_layout()\n",
            "/tmp/ipython-input-2555028051.py:36: UserWarning: Glyph 128483 (\\N{SPEAKING HEAD IN SILHOUETTE}) missing from font(s) DejaVu Sans.\n",
            "  plt.tight_layout()\n",
            "/usr/local/lib/python3.11/dist-packages/IPython/core/pylabtools.py:151: UserWarning: Glyph 127908 (\\N{MICROPHONE}) missing from font(s) DejaVu Sans.\n",
            "  fig.canvas.print_figure(bytes_io, **kw)\n",
            "/usr/local/lib/python3.11/dist-packages/IPython/core/pylabtools.py:151: UserWarning: Glyph 128483 (\\N{SPEAKING HEAD IN SILHOUETTE}) missing from font(s) DejaVu Sans.\n",
            "  fig.canvas.print_figure(bytes_io, **kw)\n"
          ]
        },
        {
          "output_type": "display_data",
          "data": {
            "text/plain": [
              "<Figure size 1200x500 with 4 Axes>"
            ],
            "image/png": "[encoded data removed]"
          },
          "metadata": {}
        },
        {
          "output_type": "stream",
          "name": "stdout",
          "text": [
            "✅ Similarity Score (0 to 1): 0.98\n"
          ]
        }
      ]
    },
    {
      "cell_type": "code",
      "source": [],
      "metadata": {
        "colab": {
          "base_uri": "https://localhost:8080/"
        },
        "id": "7u8Q9PyFASIk",
        "outputId": "1c411eb8-6506-4dd0-97bb-395ce85354e1"
      },
      "execution_count": null,
      "outputs": [
        {
          "output_type": "stream",
          "name": "stdout",
          "text": [
            "Could not strip 'Untitled6.ipynb': file not found\n"
          ]
        }
      ]
    }
  ],
  "metadata": {
    "accelerator": "GPU",
    "colab": {
      "gpuType": "T4",
      "provenance": [],
      "include_colab_link": true
    },
    "kernelspec": {
      "display_name": "Python 3",
      "name": "python3"
    },
    "language_info": {
      "name": "python"
    }
  },
  "nbformat": 4,
  "nbformat_minor": 0
}